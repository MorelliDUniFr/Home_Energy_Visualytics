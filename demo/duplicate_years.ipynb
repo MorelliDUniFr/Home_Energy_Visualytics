{
 "cells": [
  {
   "cell_type": "code",
   "id": "initial_id",
   "metadata": {
    "collapsed": true,
    "ExecuteTime": {
     "end_time": "2025-06-28T12:26:26.964726Z",
     "start_time": "2025-06-28T12:26:25.822179Z"
    }
   },
   "source": [
    "import pandas as pd\n",
    "import os\n",
    "\n",
    "data_path = '../data'\n",
    "dataset_file = 'demo_inferred_data.parquet'\n",
    "\n",
    "df = pd.read_parquet(os.path.join(data_path, dataset_file))\n",
    "\n",
    "print(df.head(40))"
   ],
   "outputs": [
    {
     "name": "stdout",
     "output_type": "stream",
     "text": [
      "             timestamp        appliance      value        date  minute  hour  \\\n",
      "0  2025-04-18 00:00:00   Coffee Machine   0.000000  2025-04-18       0     0   \n",
      "1  2025-04-18 00:00:00        Microwave   2.232140  2025-04-18       0     0   \n",
      "2  2025-04-18 00:00:00           Router  19.510475  2025-04-18       0     0   \n",
      "3  2025-04-18 00:00:00           Laptop   5.210322  2025-04-18       0     0   \n",
      "4  2025-04-18 00:00:00             Lamp   0.148242  2025-04-18       0     0   \n",
      "5  2025-04-18 00:00:00           Tablet   2.293829  2025-04-18       0     0   \n",
      "6  2025-04-18 00:00:00           Fridge  32.611610  2025-04-18       0     0   \n",
      "7  2025-04-18 00:00:00  Washing Machine  21.570478  2025-04-18       0     0   \n",
      "8  2025-04-18 00:00:00          Freezer  63.079884  2025-04-18       0     0   \n",
      "9  2025-04-18 00:00:00            Other   0.000000  2025-04-18       0     0   \n",
      "10 2025-04-18 00:00:00            Dryer   5.448971  2025-04-18       0     0   \n",
      "11 2025-04-18 00:00:00               PC  27.564636  2025-04-18       0     0   \n",
      "12 2025-04-18 00:00:10          Freezer  93.846909  2025-04-18       0     0   \n",
      "13 2025-04-18 00:00:10   Coffee Machine   0.620854  2025-04-18       0     0   \n",
      "14 2025-04-18 00:00:10        Microwave   2.232140  2025-04-18       0     0   \n",
      "15 2025-04-18 00:00:10            Dryer   4.388047  2025-04-18       0     0   \n",
      "16 2025-04-18 00:00:10            Other   0.000000  2025-04-18       0     0   \n",
      "17 2025-04-18 00:00:10           Router  19.991095  2025-04-18       0     0   \n",
      "18 2025-04-18 00:00:10  Washing Machine  22.812983  2025-04-18       0     0   \n",
      "19 2025-04-18 00:00:10           Fridge  19.381691  2025-04-18       0     0   \n",
      "20 2025-04-18 00:00:10               PC  30.035332  2025-04-18       0     0   \n",
      "21 2025-04-18 00:00:10           Laptop   5.667878  2025-04-18       0     0   \n",
      "22 2025-04-18 00:00:10             Lamp   0.204082  2025-04-18       0     0   \n",
      "23 2025-04-18 00:00:10           Tablet   3.683274  2025-04-18       0     0   \n",
      "24 2025-04-18 00:00:20          Freezer  98.819435  2025-04-18       0     0   \n",
      "25 2025-04-18 00:00:20           Laptop   5.211656  2025-04-18       0     0   \n",
      "26 2025-04-18 00:00:20            Dryer   0.519924  2025-04-18       0     0   \n",
      "27 2025-04-18 00:00:20        Microwave   2.232140  2025-04-18       0     0   \n",
      "28 2025-04-18 00:00:20           Fridge  10.003245  2025-04-18       0     0   \n",
      "29 2025-04-18 00:00:20            Other   0.000000  2025-04-18       0     0   \n",
      "30 2025-04-18 00:00:20               PC  31.398621  2025-04-18       0     0   \n",
      "31 2025-04-18 00:00:20             Lamp   0.324213  2025-04-18       0     0   \n",
      "32 2025-04-18 00:00:20           Tablet   4.313597  2025-04-18       0     0   \n",
      "33 2025-04-18 00:00:20           Router  20.116568  2025-04-18       0     0   \n",
      "34 2025-04-18 00:00:20  Washing Machine  13.479606  2025-04-18       0     0   \n",
      "35 2025-04-18 00:00:20   Coffee Machine   0.772701  2025-04-18       0     0   \n",
      "36 2025-04-18 00:00:30            Other   5.824740  2025-04-18       0     0   \n",
      "37 2025-04-18 00:00:30           Laptop   4.730799  2025-04-18       0     0   \n",
      "38 2025-04-18 00:00:30          Freezer  77.310516  2025-04-18       0     0   \n",
      "39 2025-04-18 00:00:30           Router  20.056946  2025-04-18       0     0   \n",
      "\n",
      "      month  \n",
      "0   2025-04  \n",
      "1   2025-04  \n",
      "2   2025-04  \n",
      "3   2025-04  \n",
      "4   2025-04  \n",
      "5   2025-04  \n",
      "6   2025-04  \n",
      "7   2025-04  \n",
      "8   2025-04  \n",
      "9   2025-04  \n",
      "10  2025-04  \n",
      "11  2025-04  \n",
      "12  2025-04  \n",
      "13  2025-04  \n",
      "14  2025-04  \n",
      "15  2025-04  \n",
      "16  2025-04  \n",
      "17  2025-04  \n",
      "18  2025-04  \n",
      "19  2025-04  \n",
      "20  2025-04  \n",
      "21  2025-04  \n",
      "22  2025-04  \n",
      "23  2025-04  \n",
      "24  2025-04  \n",
      "25  2025-04  \n",
      "26  2025-04  \n",
      "27  2025-04  \n",
      "28  2025-04  \n",
      "29  2025-04  \n",
      "30  2025-04  \n",
      "31  2025-04  \n",
      "32  2025-04  \n",
      "33  2025-04  \n",
      "34  2025-04  \n",
      "35  2025-04  \n",
      "36  2025-04  \n",
      "37  2025-04  \n",
      "38  2025-04  \n",
      "39  2025-04  \n"
     ]
    }
   ],
   "execution_count": 1
  },
  {
   "metadata": {
    "ExecuteTime": {
     "end_time": "2025-06-28T12:40:04.316110Z",
     "start_time": "2025-06-28T12:26:27.149452Z"
    }
   },
   "cell_type": "code",
   "source": [
    "import pandas as pd\n",
    "import os\n",
    "\n",
    "# Clone original DataFrame\n",
    "df_2024 = df.copy()\n",
    "\n",
    "# Fix 'timestamp' and 'date'\n",
    "df_2024['timestamp'] = pd.to_datetime(df_2024['timestamp']).apply(lambda x: x.replace(year=2024))\n",
    "df_2024['date'] = pd.to_datetime(df_2024['date']).apply(lambda x: x.replace(year=2024)).dt.date  # <-- KEEP AS datetime.date\n",
    "\n",
    "# Fix 'month'\n",
    "df_2024['month'] = df_2024['month'].apply(lambda x: pd.Period(year=2024, month=x.month, freq=x.freq))\n",
    "\n",
    "# Combine\n",
    "df_combined = pd.concat([df_2024, df], ignore_index=True)\n",
    "\n",
    "# ✅ Ensure the combined 'date' column is of dtype `object` with datetime.date values\n",
    "df_combined['date'] = df_combined['date'].apply(lambda x: x if isinstance(x, pd.Timestamp) else pd.to_datetime(x)).dt.date\n",
    "\n",
    "# Save to parquet\n",
    "output_file = os.path.join(data_path, 'demo_inferred_data_2024.parquet')\n",
    "df_combined.to_parquet(output_file, index=False)\n"
   ],
   "id": "d2b9e277d9e42fdd",
   "outputs": [],
   "execution_count": 2
  },
  {
   "metadata": {
    "ExecuteTime": {
     "end_time": "2025-06-28T12:40:04.346876Z",
     "start_time": "2025-06-28T12:40:04.344870Z"
    }
   },
   "cell_type": "code",
   "source": "",
   "id": "29cc976f420e0f51",
   "outputs": [],
   "execution_count": null
  }
 ],
 "metadata": {
  "kernelspec": {
   "display_name": "Python 3",
   "language": "python",
   "name": "python3"
  },
  "language_info": {
   "codemirror_mode": {
    "name": "ipython",
    "version": 2
   },
   "file_extension": ".py",
   "mimetype": "text/x-python",
   "name": "python",
   "nbconvert_exporter": "python",
   "pygments_lexer": "ipython2",
   "version": "2.7.6"
  }
 },
 "nbformat": 4,
 "nbformat_minor": 5
}
