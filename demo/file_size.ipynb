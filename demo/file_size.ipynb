{
 "cells": [
  {
   "metadata": {
    "ExecuteTime": {
     "end_time": "2025-07-02T11:48:53.128951Z",
     "start_time": "2025-07-02T11:48:52.989936Z"
    }
   },
   "cell_type": "code",
   "source": [
    "import os\n",
    "\n",
    "def list_large_files(directory, size_mb=60):\n",
    "    large_files = []\n",
    "    size_bytes = size_mb * 1024 * 1024\n",
    "\n",
    "    for root, _, files in os.walk(directory):\n",
    "        for file in files:\n",
    "            file_path = os.path.join(root, file)\n",
    "            try:\n",
    "                if os.path.getsize(file_path) > size_bytes:\n",
    "                    large_files.append((file_path, os.path.getsize(file_path)))\n",
    "            except FileNotFoundError:\n",
    "                # File might have been deleted between walk and stat\n",
    "                continue\n",
    "\n",
    "    return large_files\n",
    "\n",
    "# Example usage:\n",
    "# directory_to_check = \"/Users/davide/Documents/Master\"\n",
    "directory_to_check = 'C:\\\\Users\\\\morel\\\\Documents\\\\Home_Energy_Visualytics'\n",
    "for path, size in list_large_files(directory_to_check):\n",
    "    print(f\"{path} — {size / (1024 * 1024):.2f} MB\")\n"
   ],
   "id": "52b812110e5338fa",
   "outputs": [
    {
     "name": "stdout",
     "output_type": "stream",
     "text": [
      "C:\\Users\\morel\\Documents\\Home_Energy_Visualytics\\data\\demo_inferred_data_2024.parquet — 100.02 MB\n"
     ]
    }
   ],
   "execution_count": 4
  },
  {
   "metadata": {},
   "cell_type": "code",
   "outputs": [],
   "execution_count": null,
   "source": "",
   "id": "14137f0a1656b740"
  }
 ],
 "metadata": {
  "kernelspec": {
   "display_name": "Python 3",
   "language": "python",
   "name": "python3"
  },
  "language_info": {
   "codemirror_mode": {
    "name": "ipython",
    "version": 2
   },
   "file_extension": ".py",
   "mimetype": "text/x-python",
   "name": "python",
   "nbconvert_exporter": "python",
   "pygments_lexer": "ipython2",
   "version": "2.7.6"
  }
 },
 "nbformat": 4,
 "nbformat_minor": 5
}
