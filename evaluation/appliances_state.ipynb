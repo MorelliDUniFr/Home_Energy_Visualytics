{
 "cells": [
  {
   "metadata": {
    "ExecuteTime": {
     "end_time": "2025-06-07T16:22:22.920581Z",
     "start_time": "2025-06-07T16:22:21.804765Z"
    }
   },
   "cell_type": "code",
   "source": [
    "import os.path\n",
    "\n",
    "import pandas as pd\n",
    "from sklearn.metrics import accuracy_score\n",
    "import numpy as np\n",
    "from config_loader import load_config\n"
   ],
   "id": "4e7f656d3672f071",
   "outputs": [],
   "execution_count": 1
  },
  {
   "metadata": {
    "ExecuteTime": {
     "end_time": "2025-06-07T16:22:23.006805Z",
     "start_time": "2025-06-07T16:22:23.002559Z"
    }
   },
   "cell_type": "code",
   "source": [
    "config, config_dir = load_config()\n",
    "\n",
    "household_id = '01'\n",
    "threshold = 0.0\n",
    "env = config['Settings']['environment']\n",
    "data_path = config[env]['data_path']\n",
    "appliances_file = config['Data']['appliances_file']\n",
    "demo_inferred_data_file = config['Data']['inferred_data_file']\n",
    "demo_dataset_ground_truth_file = config['Data']['demo_dataset_ground_truth_file']"
   ],
   "id": "6996ef923061c52f",
   "outputs": [],
   "execution_count": 2
  },
  {
   "metadata": {
    "ExecuteTime": {
     "end_time": "2025-06-07T16:22:23.020254Z",
     "start_time": "2025-06-07T16:22:23.017210Z"
    }
   },
   "cell_type": "code",
   "source": [
    "def print_zero_one_distribution(df, name):\n",
    "    print(f\"\\n{name} Zero/One Distribution (%):\")\n",
    "    for col in df.columns:\n",
    "        zeros = (df[col] == 0).mean() * 100\n",
    "        ones = (df[col] == 1).mean() * 100\n",
    "        print(f\"{col:<18}  0: {zeros:5.2f}%   1: {ones:5.2f}%\")\n",
    "\n",
    "def print_zero_percentage(df, name):\n",
    "    print(f\"\\n{name} - Percentage of 0s per appliance:\")\n",
    "    for col in df.columns:\n",
    "        zero_pct = (df[col] == 0).mean() * 100\n",
    "        print(f\"{col:<18}: {zero_pct:6.2f}%\")\n"
   ],
   "id": "2040ffc4c51cc7cf",
   "outputs": [],
   "execution_count": 3
  },
  {
   "metadata": {
    "ExecuteTime": {
     "end_time": "2025-06-07T16:22:23.029926Z",
     "start_time": "2025-06-07T16:22:23.027169Z"
    }
   },
   "cell_type": "code",
   "source": [
    "# Read txt file\n",
    "with open(os.path.join(data_path, appliances_file), 'r') as f:\n",
    "    appliance_order = [line.strip() for line in f.readlines()]"
   ],
   "id": "6cead63ebdacb49a",
   "outputs": [],
   "execution_count": 4
  },
  {
   "metadata": {},
   "cell_type": "markdown",
   "source": "Ground truth",
   "id": "c05dc31a556d5f18"
  },
  {
   "metadata": {
    "ExecuteTime": {
     "end_time": "2025-06-07T16:22:23.163145Z",
     "start_time": "2025-06-07T16:22:23.036502Z"
    }
   },
   "cell_type": "code",
   "source": [
    "ground_truth = pd.read_parquet(os.path.join(data_path, demo_dataset_ground_truth_file))\n",
    "ground_truth = ground_truth.drop(columns=[\"household_id\"])\n",
    "ground_truth = ground_truth.drop(columns=[\"timestamp\"])\n",
    "\n",
    "print_zero_percentage(ground_truth, \"Ground Truth\")\n",
    "\n",
    "ground_truth_binary = (ground_truth > threshold).astype(int)\n",
    "\n",
    "print_zero_one_distribution(ground_truth_binary, \"Ground Truth\")"
   ],
   "id": "initial_id",
   "outputs": [
    {
     "name": "stdout",
     "output_type": "stream",
     "text": [
      "\n",
      "Ground Truth - Percentage of 0s per appliance:\n",
      "Coffee Machine    :  97.78%\n",
      "Dryer             :  70.74%\n",
      "Freezer           :   0.03%\n",
      "Fridge            :   0.06%\n",
      "Lamp              : 100.00%\n",
      "Laptop            : 100.00%\n",
      "Microwave         : 100.00%\n",
      "PC                : 100.00%\n",
      "Router            : 100.00%\n",
      "Tablet            : 100.00%\n",
      "Washing Machine   :  51.01%\n",
      "Other             :   0.05%\n",
      "\n",
      "Ground Truth Zero/One Distribution (%):\n",
      "Coffee Machine      0: 97.78%   1:  2.22%\n",
      "Dryer               0: 70.74%   1: 29.26%\n",
      "Freezer             0:  0.03%   1: 99.97%\n",
      "Fridge              0:  0.06%   1: 99.94%\n",
      "Lamp                0: 100.00%   1:  0.00%\n",
      "Laptop              0: 100.00%   1:  0.00%\n",
      "Microwave           0: 100.00%   1:  0.00%\n",
      "PC                  0: 100.00%   1:  0.00%\n",
      "Router              0: 100.00%   1:  0.00%\n",
      "Tablet              0: 100.00%   1:  0.00%\n",
      "Washing Machine     0: 51.01%   1: 48.99%\n",
      "Other               0:  0.05%   1: 99.95%\n"
     ]
    }
   ],
   "execution_count": 5
  },
  {
   "metadata": {},
   "cell_type": "markdown",
   "source": "Baseline all 0s",
   "id": "a1980d640a868477"
  },
  {
   "metadata": {
    "ExecuteTime": {
     "end_time": "2025-06-07T16:22:23.266197Z",
     "start_time": "2025-06-07T16:22:23.175296Z"
    }
   },
   "cell_type": "code",
   "source": [
    "# Create a DataFrame of zeros with the same shape and columns as prediction_binary\n",
    "all_off_baseline = pd.DataFrame(\n",
    "    data=0,\n",
    "    index=ground_truth_binary.index,\n",
    "    columns=ground_truth_binary.columns\n",
    ")\n",
    "\n",
    "# Baseline accuracy: predicting all appliances as off\n",
    "baseline_accuracy = accuracy_score(\n",
    "    ground_truth_binary.values.flatten(),\n",
    "    all_off_baseline.values.flatten()\n",
    ")\n",
    "\n",
    "print(f\"Baseline accuracy (all appliances off): {baseline_accuracy * 100:.2f}%\")\n",
    "for col in ground_truth.columns:\n",
    "    acc = accuracy_score(ground_truth_binary[col], all_off_baseline[col])\n",
    "    print(f\"Accuracy {col}: {acc * 100:.2f}%\")\n"
   ],
   "id": "f5283f237f587e2c",
   "outputs": [
    {
     "name": "stdout",
     "output_type": "stream",
     "text": [
      "Baseline accuracy (all appliances off): 68.31%\n",
      "Accuracy Coffee Machine: 97.78%\n",
      "Accuracy Dryer: 70.74%\n",
      "Accuracy Freezer: 0.03%\n",
      "Accuracy Fridge: 0.06%\n",
      "Accuracy Lamp: 100.00%\n",
      "Accuracy Laptop: 100.00%\n",
      "Accuracy Microwave: 100.00%\n",
      "Accuracy PC: 100.00%\n",
      "Accuracy Router: 100.00%\n",
      "Accuracy Tablet: 100.00%\n",
      "Accuracy Washing Machine: 51.01%\n",
      "Accuracy Other: 0.05%\n"
     ]
    }
   ],
   "execution_count": 6
  },
  {
   "metadata": {},
   "cell_type": "markdown",
   "source": "Baseline all 1s",
   "id": "728fa0770a4a5a3e"
  },
  {
   "metadata": {
    "ExecuteTime": {
     "end_time": "2025-06-07T16:22:23.351973Z",
     "start_time": "2025-06-07T16:22:23.279122Z"
    }
   },
   "cell_type": "code",
   "source": [
    "# Create a DataFrame of zeros with the same shape and columns as prediction_binary\n",
    "all_on_baseline = pd.DataFrame(\n",
    "    data=1,\n",
    "    index=ground_truth_binary.index,\n",
    "    columns=ground_truth_binary.columns\n",
    ")\n",
    "\n",
    "# Baseline accuracy: predicting all appliances as off\n",
    "baseline_accuracy = accuracy_score(\n",
    "    ground_truth_binary.values.flatten(),\n",
    "    all_on_baseline.values.flatten()\n",
    ")\n",
    "\n",
    "print(f\"Baseline accuracy (all appliances on): {baseline_accuracy * 100:.2f}%\")\n",
    "for col in ground_truth.columns:\n",
    "    acc = accuracy_score(ground_truth_binary[col], all_on_baseline[col])\n",
    "    print(f\"Accuracy {col}: {acc * 100:.2f}%\")\n"
   ],
   "id": "762ad05f786970ef",
   "outputs": [
    {
     "name": "stdout",
     "output_type": "stream",
     "text": [
      "Baseline accuracy (all appliances on): 31.69%\n",
      "Accuracy Coffee Machine: 2.22%\n",
      "Accuracy Dryer: 29.26%\n",
      "Accuracy Freezer: 99.97%\n",
      "Accuracy Fridge: 99.94%\n",
      "Accuracy Lamp: 0.00%\n",
      "Accuracy Laptop: 0.00%\n",
      "Accuracy Microwave: 0.00%\n",
      "Accuracy PC: 0.00%\n",
      "Accuracy Router: 0.00%\n",
      "Accuracy Tablet: 0.00%\n",
      "Accuracy Washing Machine: 48.99%\n",
      "Accuracy Other: 99.95%\n"
     ]
    }
   ],
   "execution_count": 7
  },
  {
   "metadata": {},
   "cell_type": "markdown",
   "source": "Baseline random",
   "id": "797d60942ac0ad8e"
  },
  {
   "metadata": {
    "ExecuteTime": {
     "end_time": "2025-06-07T16:22:23.461862Z",
     "start_time": "2025-06-07T16:22:23.366179Z"
    }
   },
   "cell_type": "code",
   "source": [
    "# Create a random 0/1 DataFrame with the same shape and columns\n",
    "np.random.seed(42)  # For reproducibility\n",
    "random_baseline = pd.DataFrame(\n",
    "    data=np.random.randint(0, 2, size=ground_truth_binary.shape),\n",
    "    index=ground_truth_binary.index,\n",
    "    columns=ground_truth_binary.columns\n",
    ")\n",
    "\n",
    "# Compute overall accuracy of the random baseline\n",
    "random_accuracy = accuracy_score(\n",
    "    ground_truth_binary.values.flatten(),\n",
    "    random_baseline.values.flatten()\n",
    ")\n",
    "print(f\"\\nBaseline accuracy (random 0/1): {random_accuracy * 100:.2f}%\")\n",
    "\n",
    "# Compute per-appliance accuracy\n",
    "for col in ground_truth.columns:\n",
    "    acc = accuracy_score(ground_truth_binary[col], random_baseline[col])\n",
    "    print(f\"Accuracy {col}: {acc * 100:.2f}%\")"
   ],
   "id": "64c818edd133c67",
   "outputs": [
    {
     "name": "stdout",
     "output_type": "stream",
     "text": [
      "\n",
      "Baseline accuracy (random 0/1): 50.02%\n",
      "Accuracy Coffee Machine: 50.13%\n",
      "Accuracy Dryer: 49.90%\n",
      "Accuracy Freezer: 50.05%\n",
      "Accuracy Fridge: 50.10%\n",
      "Accuracy Lamp: 49.92%\n",
      "Accuracy Laptop: 50.10%\n",
      "Accuracy Microwave: 50.16%\n",
      "Accuracy PC: 49.87%\n",
      "Accuracy Router: 50.02%\n",
      "Accuracy Tablet: 50.08%\n",
      "Accuracy Washing Machine: 49.85%\n",
      "Accuracy Other: 50.08%\n"
     ]
    }
   ],
   "execution_count": 8
  },
  {
   "metadata": {},
   "cell_type": "markdown",
   "source": "Predictions",
   "id": "4b937568fa9da991"
  },
  {
   "metadata": {
    "ExecuteTime": {
     "end_time": "2025-06-07T16:22:24.586089Z",
     "start_time": "2025-06-07T16:22:23.475157Z"
    }
   },
   "cell_type": "code",
   "source": [
    "prediction = pd.read_parquet(os.path.join(data_path, demo_inferred_data_file))\n",
    "\n",
    "prediction[\"timestamp\"] = pd.to_datetime(prediction[\"timestamp\"])\n",
    "\n",
    "prediction[\"household_id\"] = household_id\n",
    "\n",
    "prediction_wide = prediction.pivot_table(\n",
    "    index=[\"timestamp\", \"household_id\"],\n",
    "    columns=\"appliance\",\n",
    "    values=\"value\",\n",
    "    aggfunc=\"first\"\n",
    ").reset_index()\n",
    "\n",
    "prediction_wide.columns.name = None\n",
    "\n",
    "column_order = [col for col in appliance_order if col != \"timestamp\" and col != \"household_id\"]\n",
    "prediction_wide = prediction_wide[[\"timestamp\"] + column_order]\n",
    "\n",
    "prediction_wide = prediction_wide.drop(columns=[\"timestamp\"])\n",
    "\n",
    "prediction_binary = (prediction_wide > threshold).astype(int)\n",
    "\n",
    "print_zero_one_distribution(prediction_binary, \"Prediction\")\n",
    "\n",
    "overall_accuracy = accuracy_score(\n",
    "    ground_truth_binary.values.flatten(),\n",
    "    prediction_binary.values.flatten()\n",
    ")\n",
    "print(f\"Total Accuracy: {overall_accuracy * 100:.2f}%\")\n",
    "\n",
    "for col in ground_truth.columns:\n",
    "    acc = accuracy_score(y_true=ground_truth_binary[col], y_pred=prediction_binary[col])\n",
    "    print(f\"Accuracy {col}: {acc * 100:.2f}%\")"
   ],
   "id": "c6cee4e62b23f654",
   "outputs": [
    {
     "name": "stdout",
     "output_type": "stream",
     "text": [
      "\n",
      "Prediction Zero/One Distribution (%):\n",
      "Coffee Machine      0: 100.00%   1:  0.00%\n",
      "Dryer               0:  3.00%   1: 97.00%\n",
      "Freezer             0:  0.39%   1: 99.61%\n",
      "Fridge              0:  0.00%   1: 100.00%\n",
      "Lamp                0: 93.19%   1:  6.81%\n",
      "Laptop              0: 100.00%   1:  0.00%\n",
      "Microwave           0: 99.05%   1:  0.95%\n",
      "PC                  0: 90.87%   1:  9.13%\n",
      "Router              0: 96.40%   1:  3.60%\n",
      "Tablet              0: 95.27%   1:  4.73%\n",
      "Washing Machine     0: 99.39%   1:  0.61%\n",
      "Other               0: 95.02%   1:  4.98%\n",
      "Total Accuracy: 79.91%\n",
      "Accuracy Coffee Machine: 97.78%\n",
      "Accuracy Dryer: 30.65%\n",
      "Accuracy Freezer: 99.58%\n",
      "Accuracy Fridge: 99.94%\n",
      "Accuracy Lamp: 93.19%\n",
      "Accuracy Laptop: 100.00%\n",
      "Accuracy Microwave: 99.05%\n",
      "Accuracy PC: 90.87%\n",
      "Accuracy Router: 96.40%\n",
      "Accuracy Tablet: 95.27%\n",
      "Accuracy Washing Machine: 51.18%\n",
      "Accuracy Other: 5.01%\n"
     ]
    }
   ],
   "execution_count": 9
  },
  {
   "metadata": {
    "ExecuteTime": {
     "end_time": "2025-06-07T16:22:24.602904Z",
     "start_time": "2025-06-07T16:22:24.600961Z"
    }
   },
   "cell_type": "code",
   "source": "",
   "id": "bbb068cf1fd49ba0",
   "outputs": [],
   "execution_count": null
  }
 ],
 "metadata": {
  "kernelspec": {
   "display_name": "Python 3",
   "language": "python",
   "name": "python3"
  },
  "language_info": {
   "codemirror_mode": {
    "name": "ipython",
    "version": 2
   },
   "file_extension": ".py",
   "mimetype": "text/x-python",
   "name": "python",
   "nbconvert_exporter": "python",
   "pygments_lexer": "ipython2",
   "version": "2.7.6"
  }
 },
 "nbformat": 4,
 "nbformat_minor": 5
}
