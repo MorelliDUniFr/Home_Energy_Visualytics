{
 "cells": [
  {
   "metadata": {
    "ExecuteTime": {
     "end_time": "2025-06-08T16:05:43.302849Z",
     "start_time": "2025-06-08T16:05:42.351655Z"
    }
   },
   "cell_type": "code",
   "source": [
    "import os\n",
    "import pandas as pd\n",
    "from sklearn.metrics import accuracy_score\n",
    "import numpy as np\n",
    "from config_loader import load_config\n",
    "import json\n"
   ],
   "id": "4e7f656d3672f071",
   "outputs": [],
   "execution_count": 1
  },
  {
   "metadata": {
    "ExecuteTime": {
     "end_time": "2025-06-08T16:05:43.388990Z",
     "start_time": "2025-06-08T16:05:43.384729Z"
    }
   },
   "cell_type": "code",
   "source": [
    "config, config_dir = load_config()\n",
    "\n",
    "household_id = '05'\n",
    "threshold = 0.0\n",
    "env = config['Settings']['environment']\n",
    "data_path = config[env]['data_path']\n",
    "column_names_file = config['Data']['training_dataset_columns_file']\n",
    "demo_inferred_data_file = config['Data']['inferred_data_file']\n",
    "demo_dataset_ground_truth_file = config['Data']['demo_dataset_ground_truth_file']"
   ],
   "id": "6996ef923061c52f",
   "outputs": [],
   "execution_count": 2
  },
  {
   "metadata": {
    "ExecuteTime": {
     "end_time": "2025-06-08T16:05:43.407184Z",
     "start_time": "2025-06-08T16:05:43.404208Z"
    }
   },
   "cell_type": "code",
   "source": [
    "def print_zero_one_distribution(df, name):\n",
    "    print(f\"\\n{name} Zero/One Distribution (%):\")\n",
    "    for col in df.columns:\n",
    "        zeros = (df[col] == 0).mean() * 100\n",
    "        ones = (df[col] == 1).mean() * 100\n",
    "        print(f\"{col:<18}  0: {zeros:5.2f}%   1: {ones:5.2f}%\")"
   ],
   "id": "2040ffc4c51cc7cf",
   "outputs": [],
   "execution_count": 3
  },
  {
   "metadata": {
    "ExecuteTime": {
     "end_time": "2025-06-08T16:05:43.419406Z",
     "start_time": "2025-06-08T16:05:43.416619Z"
    }
   },
   "cell_type": "code",
   "source": [
    "# Read appliance names from the text file\n",
    "with open(os.path.join(data_path, column_names_file), 'r') as file:\n",
    "    column_names_json = json.load(file)\n",
    "\n",
    "appliance_order = column_names_json['appliances']"
   ],
   "id": "6cead63ebdacb49a",
   "outputs": [],
   "execution_count": 4
  },
  {
   "metadata": {},
   "cell_type": "markdown",
   "source": "Ground truth",
   "id": "c05dc31a556d5f18"
  },
  {
   "metadata": {
    "ExecuteTime": {
     "end_time": "2025-06-08T16:05:43.570194Z",
     "start_time": "2025-06-08T16:05:43.429825Z"
    }
   },
   "cell_type": "code",
   "source": [
    "ground_truth = pd.read_parquet(os.path.join(data_path, demo_dataset_ground_truth_file))\n",
    "ground_truth = ground_truth.drop(columns=[\"household_id\"])\n",
    "ground_truth = ground_truth.drop(columns=[\"timestamp\"])\n",
    "\n",
    "ground_truth_binary = (ground_truth > threshold).astype(int)\n",
    "\n",
    "print_zero_one_distribution(ground_truth_binary, \"Ground Truth\")"
   ],
   "id": "initial_id",
   "outputs": [
    {
     "name": "stdout",
     "output_type": "stream",
     "text": [
      "\n",
      "Ground Truth Zero/One Distribution (%):\n",
      "Coffee Machine      0: 95.71%   1:  4.29%\n",
      "Dryer               0: 100.00%   1:  0.00%\n",
      "Freezer             0: 100.00%   1:  0.00%\n",
      "Fridge              0:  0.03%   1: 99.97%\n",
      "Lamp                0: 100.00%   1:  0.00%\n",
      "Laptop              0: 100.00%   1:  0.00%\n",
      "Microwave           0:  0.00%   1: 100.00%\n",
      "PC                  0:  0.00%   1: 100.00%\n",
      "Router              0: 100.00%   1:  0.00%\n",
      "Tablet              0:  0.00%   1: 100.00%\n",
      "Washing Machine     0: 100.00%   1:  0.00%\n",
      "Other               0:  0.02%   1: 99.98%\n"
     ]
    }
   ],
   "execution_count": 5
  },
  {
   "metadata": {},
   "cell_type": "markdown",
   "source": "Baseline all 0s",
   "id": "a1980d640a868477"
  },
  {
   "metadata": {
    "ExecuteTime": {
     "end_time": "2025-06-08T16:05:43.733109Z",
     "start_time": "2025-06-08T16:05:43.582285Z"
    }
   },
   "cell_type": "code",
   "source": [
    "# Create a DataFrame of zeros with the same shape and columns as prediction_binary\n",
    "all_off_baseline = pd.DataFrame(\n",
    "    data=0,\n",
    "    index=ground_truth_binary.index,\n",
    "    columns=ground_truth_binary.columns\n",
    ")\n",
    "\n",
    "# Baseline accuracy: predicting all appliances as off\n",
    "baseline_accuracy = accuracy_score(\n",
    "    ground_truth_binary.values.flatten(),\n",
    "    all_off_baseline.values.flatten()\n",
    ")\n",
    "\n",
    "print(f\"Baseline accuracy (all appliances off): {baseline_accuracy * 100:.2f}%\")\n",
    "for col in ground_truth.columns:\n",
    "    acc = accuracy_score(ground_truth_binary[col], all_off_baseline[col])\n",
    "    print(f\"Accuracy {col}: {acc * 100:.2f}%\")\n"
   ],
   "id": "f5283f237f587e2c",
   "outputs": [
    {
     "name": "stdout",
     "output_type": "stream",
     "text": [
      "Baseline accuracy (all appliances off): 57.98%\n",
      "Accuracy Coffee Machine: 95.71%\n",
      "Accuracy Dryer: 100.00%\n",
      "Accuracy Freezer: 100.00%\n",
      "Accuracy Fridge: 0.03%\n",
      "Accuracy Lamp: 100.00%\n",
      "Accuracy Laptop: 100.00%\n",
      "Accuracy Microwave: 0.00%\n",
      "Accuracy PC: 0.00%\n",
      "Accuracy Router: 100.00%\n",
      "Accuracy Tablet: 0.00%\n",
      "Accuracy Washing Machine: 100.00%\n",
      "Accuracy Other: 0.02%\n"
     ]
    }
   ],
   "execution_count": 6
  },
  {
   "metadata": {},
   "cell_type": "markdown",
   "source": "Baseline all 1s",
   "id": "728fa0770a4a5a3e"
  },
  {
   "metadata": {
    "ExecuteTime": {
     "end_time": "2025-06-08T16:05:43.895885Z",
     "start_time": "2025-06-08T16:05:43.743813Z"
    }
   },
   "cell_type": "code",
   "source": [
    "# Create a DataFrame of zeros with the same shape and columns as prediction_binary\n",
    "all_on_baseline = pd.DataFrame(\n",
    "    data=1,\n",
    "    index=ground_truth_binary.index,\n",
    "    columns=ground_truth_binary.columns\n",
    ")\n",
    "\n",
    "# Baseline accuracy: predicting all appliances as off\n",
    "baseline_accuracy = accuracy_score(\n",
    "    ground_truth_binary.values.flatten(),\n",
    "    all_on_baseline.values.flatten()\n",
    ")\n",
    "\n",
    "print(f\"Baseline accuracy (all appliances on): {baseline_accuracy * 100:.2f}%\")\n",
    "for col in ground_truth.columns:\n",
    "    acc = accuracy_score(ground_truth_binary[col], all_on_baseline[col])\n",
    "    print(f\"Accuracy {col}: {acc * 100:.2f}%\")\n"
   ],
   "id": "762ad05f786970ef",
   "outputs": [
    {
     "name": "stdout",
     "output_type": "stream",
     "text": [
      "Baseline accuracy (all appliances on): 42.02%\n",
      "Accuracy Coffee Machine: 4.29%\n",
      "Accuracy Dryer: 0.00%\n",
      "Accuracy Freezer: 0.00%\n",
      "Accuracy Fridge: 99.97%\n",
      "Accuracy Lamp: 0.00%\n",
      "Accuracy Laptop: 0.00%\n",
      "Accuracy Microwave: 100.00%\n",
      "Accuracy PC: 100.00%\n",
      "Accuracy Router: 0.00%\n",
      "Accuracy Tablet: 100.00%\n",
      "Accuracy Washing Machine: 0.00%\n",
      "Accuracy Other: 99.98%\n"
     ]
    }
   ],
   "execution_count": 7
  },
  {
   "metadata": {},
   "cell_type": "markdown",
   "source": "Baseline random",
   "id": "797d60942ac0ad8e"
  },
  {
   "metadata": {
    "ExecuteTime": {
     "end_time": "2025-06-08T16:05:44.085206Z",
     "start_time": "2025-06-08T16:05:43.908078Z"
    }
   },
   "cell_type": "code",
   "source": [
    "# Create a random 0/1 DataFrame with the same shape and columns\n",
    "np.random.seed(42)  # For reproducibility\n",
    "random_baseline = pd.DataFrame(\n",
    "    data=np.random.randint(0, 2, size=ground_truth_binary.shape),\n",
    "    index=ground_truth_binary.index,\n",
    "    columns=ground_truth_binary.columns\n",
    ")\n",
    "\n",
    "# Compute overall accuracy of the random baseline\n",
    "random_accuracy = accuracy_score(\n",
    "    ground_truth_binary.values.flatten(),\n",
    "    random_baseline.values.flatten()\n",
    ")\n",
    "print(f\"\\nBaseline accuracy (random 0/1): {random_accuracy * 100:.2f}%\")\n",
    "\n",
    "# Compute per-appliance accuracy\n",
    "for col in ground_truth.columns:\n",
    "    acc = accuracy_score(ground_truth_binary[col], random_baseline[col])\n",
    "    print(f\"Accuracy {col}: {acc * 100:.2f}%\")"
   ],
   "id": "64c818edd133c67",
   "outputs": [
    {
     "name": "stdout",
     "output_type": "stream",
     "text": [
      "\n",
      "Baseline accuracy (random 0/1): 49.99%\n",
      "Accuracy Coffee Machine: 50.10%\n",
      "Accuracy Dryer: 49.88%\n",
      "Accuracy Freezer: 49.92%\n",
      "Accuracy Fridge: 50.03%\n",
      "Accuracy Lamp: 49.93%\n",
      "Accuracy Laptop: 49.96%\n",
      "Accuracy Microwave: 49.91%\n",
      "Accuracy PC: 50.02%\n",
      "Accuracy Router: 50.02%\n",
      "Accuracy Tablet: 49.99%\n",
      "Accuracy Washing Machine: 50.10%\n",
      "Accuracy Other: 50.03%\n"
     ]
    }
   ],
   "execution_count": 8
  },
  {
   "metadata": {},
   "cell_type": "markdown",
   "source": "Predictions",
   "id": "4b937568fa9da991"
  },
  {
   "metadata": {
    "ExecuteTime": {
     "end_time": "2025-06-08T16:05:46.617119Z",
     "start_time": "2025-06-08T16:05:44.098212Z"
    }
   },
   "cell_type": "code",
   "source": [
    "prediction = pd.read_parquet(os.path.join(data_path, demo_inferred_data_file))\n",
    "\n",
    "prediction[\"timestamp\"] = pd.to_datetime(prediction[\"timestamp\"])\n",
    "\n",
    "prediction[\"household_id\"] = household_id\n",
    "\n",
    "prediction_wide = prediction.pivot_table(\n",
    "    index=[\"timestamp\", \"household_id\"],\n",
    "    columns=\"appliance\",\n",
    "    values=\"value\",\n",
    "    aggfunc=\"first\"\n",
    ").reset_index()\n",
    "\n",
    "prediction_wide.columns.name = None\n",
    "\n",
    "column_order = [col for col in appliance_order if col != \"timestamp\" and col != \"household_id\"]\n",
    "prediction_wide = prediction_wide[[\"timestamp\"] + column_order]\n",
    "\n",
    "prediction_wide = prediction_wide.drop(columns=[\"timestamp\"])\n",
    "\n",
    "prediction_binary = (prediction_wide > threshold).astype(int)\n",
    "\n",
    "print_zero_one_distribution(prediction_binary, \"Prediction\")\n",
    "\n",
    "overall_accuracy = accuracy_score(\n",
    "    ground_truth_binary.values.flatten(),\n",
    "    prediction_binary.values.flatten()\n",
    ")\n",
    "print(f\"Total Accuracy: {overall_accuracy * 100:.2f}%\")\n",
    "\n",
    "for col in ground_truth.columns:\n",
    "    acc = accuracy_score(y_true=ground_truth_binary[col], y_pred=prediction_binary[col])\n",
    "    print(f\"Accuracy {col}: {acc * 100:.2f}%\")"
   ],
   "id": "c6cee4e62b23f654",
   "outputs": [
    {
     "name": "stdout",
     "output_type": "stream",
     "text": [
      "\n",
      "Prediction Zero/One Distribution (%):\n",
      "Coffee Machine      0: 100.00%   1:  0.00%\n",
      "Dryer               0: 100.00%   1:  0.00%\n",
      "Freezer             0:  0.00%   1: 100.00%\n",
      "Fridge              0:  0.00%   1: 100.00%\n",
      "Lamp                0: 100.00%   1:  0.00%\n",
      "Laptop              0: 100.00%   1:  0.00%\n",
      "Microwave           0: 100.00%   1:  0.00%\n",
      "PC                  0: 35.98%   1: 64.02%\n",
      "Router              0: 100.00%   1:  0.00%\n",
      "Tablet              0: 97.17%   1:  2.83%\n",
      "Washing Machine     0: 100.00%   1:  0.00%\n",
      "Other               0: 93.92%   1:  6.08%\n",
      "Total Accuracy: 64.05%\n",
      "Accuracy Coffee Machine: 95.71%\n",
      "Accuracy Dryer: 100.00%\n",
      "Accuracy Freezer: 0.00%\n",
      "Accuracy Fridge: 99.97%\n",
      "Accuracy Lamp: 100.00%\n",
      "Accuracy Laptop: 100.00%\n",
      "Accuracy Microwave: 0.00%\n",
      "Accuracy PC: 64.02%\n",
      "Accuracy Router: 100.00%\n",
      "Accuracy Tablet: 2.83%\n",
      "Accuracy Washing Machine: 100.00%\n",
      "Accuracy Other: 6.09%\n"
     ]
    }
   ],
   "execution_count": 9
  },
  {
   "metadata": {
    "ExecuteTime": {
     "end_time": "2025-06-08T16:05:46.636500Z",
     "start_time": "2025-06-08T16:05:46.634383Z"
    }
   },
   "cell_type": "code",
   "source": "",
   "id": "bbb068cf1fd49ba0",
   "outputs": [],
   "execution_count": null
  }
 ],
 "metadata": {
  "kernelspec": {
   "display_name": "Python 3",
   "language": "python",
   "name": "python3"
  },
  "language_info": {
   "codemirror_mode": {
    "name": "ipython",
    "version": 2
   },
   "file_extension": ".py",
   "mimetype": "text/x-python",
   "name": "python",
   "nbconvert_exporter": "python",
   "pygments_lexer": "ipython2",
   "version": "2.7.6"
  }
 },
 "nbformat": 4,
 "nbformat_minor": 5
}
