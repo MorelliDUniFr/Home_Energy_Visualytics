{
 "cells": [
  {
   "metadata": {},
   "cell_type": "code",
   "source": [
    "import pandas as pd\n",
    "import matplotlib.pyplot as plt\n",
    "from config_loader import load_config\n",
    "import os\n",
    "import json"
   ],
   "id": "629a0fc16b57e1d2",
   "outputs": [],
   "execution_count": null
  },
  {
   "metadata": {},
   "cell_type": "code",
   "source": [
    "# Load configuration\n",
    "config, config_dir = load_config()\n",
    "# Get the data path from the configuration\n",
    "env = config['Settings']['environment']\n",
    "data_path = config[env]['data_path']\n",
    "demo_inferred_data_file = config['Data']['inferred_data_file']\n",
    "demo_dataset_ground_truth_file = config['Data']['demo_dataset_ground_truth_file']\n",
    "column_names_file = config['Data']['training_dataset_columns_file']"
   ],
   "id": "57d2268b8688dc65",
   "outputs": [],
   "execution_count": null
  },
  {
   "metadata": {},
   "cell_type": "code",
   "source": [
    "# Read appliance names from the text file\n",
    "with open(os.path.join(data_path, column_names_file), 'r') as file:\n",
    "    column_names_json = json.load(file)\n",
    "\n",
    "# Read the Parquet file\n",
    "df = pd.read_parquet(os.path.join(data_path, demo_inferred_data_file))\n",
    "# Read the ground truth data\n",
    "df_gt = pd.read_parquet(os.path.join(data_path, demo_dataset_ground_truth_file))\n",
    "\n",
    "print(df.head())\n",
    "print(df_gt.head())"
   ],
   "id": "1747009d4af80cf",
   "outputs": [],
   "execution_count": null
  },
  {
   "metadata": {},
   "cell_type": "code",
   "source": [
    "appliances = column_names_json['appliances']\n",
    "\n",
    "# Loop over each appliance\n",
    "for appliance in appliances:\n",
    "    df_appliance = df[df['appliance'] == appliance]\n",
    "    plt.figure(figsize=(10, 5))\n",
    "    plt.plot(df_appliance['timestamp'], df_appliance['value'], label=appliance)\n",
    "    plt.title(f'Predictions for {appliance}')\n",
    "    plt.xlabel('Timestamp')\n",
    "    plt.ylabel('Predicted Value')\n",
    "    plt.legend()\n",
    "    plt.xticks(rotation=45)\n",
    "    plt.tight_layout()\n",
    "    plt.show()\n"
   ],
   "id": "d97148582d95e017",
   "outputs": [],
   "execution_count": null
  },
  {
   "metadata": {
    "jupyter": {
     "is_executing": true
    }
   },
   "cell_type": "code",
   "source": [
    "import pandas as pd\n",
    "import plotly.graph_objects as go\n",
    "from datetime import timedelta\n",
    "\n",
    "# Convert timestamps to datetime\n",
    "df['timestamp'] = pd.to_datetime(df['timestamp'])\n",
    "df_gt['timestamp'] = pd.to_datetime(df_gt['timestamp'])\n",
    "\n",
    "# Convert wide ground truth to long format\n",
    "gt_long = df_gt.melt(\n",
    "    id_vars=['timestamp'],\n",
    "    value_vars=appliances,\n",
    "    var_name='appliance',\n",
    "    value_name='gt_value'\n",
    ")\n",
    "\n",
    "# Merge predictions and ground truth\n",
    "merged = pd.merge(df, gt_long, on=['timestamp', 'appliance'], how='inner')\n",
    "\n",
    "# Filter to first 7 days of data\n",
    "start_date = merged['timestamp'].min()\n",
    "end_date = start_date + timedelta(days=7)\n",
    "merged_7d = merged[(merged['timestamp'] >= start_date) & (merged['timestamp'] < end_date)]\n",
    "\n",
    "for appliance in appliances:\n",
    "    df_appliance = merged_7d[merged_7d['appliance'] == appliance]\n",
    "\n",
    "    fig = go.Figure()\n",
    "\n",
    "    fig.add_trace(go.Scatter(\n",
    "        x=df_appliance['timestamp'],\n",
    "        y=df_appliance['gt_value'],\n",
    "        mode='lines',\n",
    "        name='Ground Truth',\n",
    "        line=dict(color='red')\n",
    "    ))\n",
    "\n",
    "    fig.add_trace(go.Scatter(\n",
    "        x=df_appliance['timestamp'],\n",
    "        y=df_appliance['value'],\n",
    "        mode='lines',\n",
    "        name='Prediction',\n",
    "        line=dict(color='blue')\n",
    "    ))\n",
    "\n",
    "    fig.update_layout(\n",
    "        title=f'Prediction vs Ground Truth: {appliance}',\n",
    "        xaxis_title='Timestamp',\n",
    "        yaxis_title='Power (W)',\n",
    "        legend=dict(x=0, y=1.1, orientation=\"h\"),\n",
    "        height=400\n",
    "    )\n",
    "\n",
    "    fig.show()\n"
   ],
   "id": "4b27d33c0c1505d3",
   "outputs": [],
   "execution_count": null
  },
  {
   "metadata": {},
   "cell_type": "code",
   "source": "",
   "id": "4b24c8b84924a27f",
   "outputs": [],
   "execution_count": null
  }
 ],
 "metadata": {
  "kernelspec": {
   "display_name": "Python 3",
   "language": "python",
   "name": "python3"
  },
  "language_info": {
   "codemirror_mode": {
    "name": "ipython",
    "version": 2
   },
   "file_extension": ".py",
   "mimetype": "text/x-python",
   "name": "python",
   "nbconvert_exporter": "python",
   "pygments_lexer": "ipython2",
   "version": "2.7.6"
  }
 },
 "nbformat": 4,
 "nbformat_minor": 5
}
